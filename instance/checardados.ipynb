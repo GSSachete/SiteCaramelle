{
 "cells": [
  {
   "cell_type": "code",
   "execution_count": 1,
   "metadata": {},
   "outputs": [],
   "source": [
    "import sqlite3"
   ]
  },
  {
   "cell_type": "code",
   "execution_count": 3,
   "metadata": {},
   "outputs": [
    {
     "name": "stdout",
     "output_type": "stream",
     "text": [
      "Tabela: alembic_version\n",
      "  Coluna: version_num\n",
      "Tabela: user\n",
      "  Coluna: id\n",
      "  Coluna: username\n",
      "  Coluna: email\n",
      "  Coluna: password_hash\n",
      "Tabela: agendamento\n",
      "  Coluna: id\n",
      "  Coluna: nome\n",
      "  Coluna: email\n",
      "  Coluna: data\n",
      "  Coluna: descricao\n",
      "Tabela: product\n",
      "  Coluna: id\n",
      "  Coluna: nome\n",
      "  Coluna: descricao\n",
      "  Coluna: preco\n",
      "  Coluna: imagem\n"
     ]
    }
   ],
   "source": [
    "import sqlite3\n",
    "\n",
    "# Conectar ao banco de dados\n",
    "conn = sqlite3.connect('sitecaramelle.db')\n",
    "\n",
    "# Obter o cursor\n",
    "cursor = conn.cursor()\n",
    "\n",
    "# Consultar o esquema do banco de dados\n",
    "cursor.execute(\"SELECT name FROM sqlite_master WHERE type='table';\")\n",
    "tables = cursor.fetchall()\n",
    "\n",
    "# Iterar sobre as tabelas e obter informações de coluna\n",
    "for table in tables:\n",
    "    print(f\"Tabela: {table[0]}\")\n",
    "    cursor.execute(f\"PRAGMA table_info({table[0]})\")\n",
    "    columns = cursor.fetchall()\n",
    "    for column in columns:\n",
    "        print(f\"  Coluna: {column[1]}\")\n"
   ]
  }
 ],
 "metadata": {
  "kernelspec": {
   "display_name": "venvv",
   "language": "python",
   "name": "python3"
  },
  "language_info": {
   "codemirror_mode": {
    "name": "ipython",
    "version": 3
   },
   "file_extension": ".py",
   "mimetype": "text/x-python",
   "name": "python",
   "nbconvert_exporter": "python",
   "pygments_lexer": "ipython3",
   "version": "3.12.2"
  }
 },
 "nbformat": 4,
 "nbformat_minor": 2
}
